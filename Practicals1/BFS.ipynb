{
 "cells": [
  {
   "cell_type": "code",
   "execution_count": 1,
   "id": "d73484c0-4b99-4365-b13d-be1c448c1fac",
   "metadata": {},
   "outputs": [
    {
     "name": "stdout",
     "output_type": "stream",
     "text": [
      "Name: Lokesh Dhoble\n",
      "Division: A\n",
      "Roll no: 22131\n",
      "Batch: A2\n"
     ]
    },
    {
     "name": "stdin",
     "output_type": "stream",
     "text": [
      "Enter the number of vertices:  6\n",
      "Enter a vertex:  A\n",
      "Enter neighbors of A (separated by spaces):  B C D\n",
      "Enter a vertex:  B\n",
      "Enter neighbors of B (separated by spaces):  \n",
      "Enter a vertex:  C\n",
      "Enter neighbors of C (separated by spaces):  \n",
      "Enter a vertex:  D\n",
      "Enter neighbors of D (separated by spaces):  E\n",
      "Enter a vertex:  E\n",
      "Enter neighbors of E (separated by spaces):  \n",
      "Enter a vertex:  F\n",
      "Enter neighbors of F (separated by spaces):  \n"
     ]
    },
    {
     "name": "stdout",
     "output_type": "stream",
     "text": [
      "\n",
      "Constructed Graph:\n",
      "A: C, D, B\n",
      "B: \n",
      "C: \n",
      "D: E\n",
      "E: \n",
      "F: \n"
     ]
    },
    {
     "name": "stdin",
     "output_type": "stream",
     "text": [
      "\n",
      "Enter the starting vertex:  A\n",
      "Enter the target vertex:  F\n"
     ]
    },
    {
     "name": "stdout",
     "output_type": "stream",
     "text": [
      "Current path: A\n",
      "Current path: A -> C\n",
      "Current path: A -> D\n",
      "Current path: A -> B\n",
      "Current path: A -> D -> E\n",
      "Target node 'F' not found.\n"
     ]
    }
   ],
   "source": [
    "from collections import defaultdict, deque\n",
    "\n",
    "def bfs_recursive(graph, queue, visited, target, found):\n",
    "    if not queue or found[0]:\n",
    "        return\n",
    "\n",
    "    vertex, path = queue.popleft()\n",
    "    print(\"Current path:\", \" -> \".join(path))\n",
    "\n",
    "    if vertex == target:\n",
    "        print(\"BFS traversal:\", \" -> \".join(path))\n",
    "        print(f\"Target node '{target}' found!\")\n",
    "        found[0] = True\n",
    "        return\n",
    "\n",
    "    visited.add(vertex)\n",
    "    for neighbor in graph[vertex]:\n",
    "        if neighbor not in visited:\n",
    "            queue.append((neighbor, path + [neighbor]))\n",
    "\n",
    "    bfs_recursive(graph, queue, visited, target, found)\n",
    "\n",
    "# Taking dynamic input for the graph\n",
    "graph = defaultdict(set)\n",
    "print(\"Name: Lokesh Dhoble\\nDivision: A\\nRoll no: 22131\\nBatch: A2\")\n",
    "num_vertices = int(input(\"Enter the number of vertices: \"))\n",
    "\n",
    "for _ in range(num_vertices):\n",
    "    vertex = input(\"Enter a vertex: \")\n",
    "    neighbors = input(f\"Enter neighbors of {vertex} (separated by spaces): \").split()\n",
    "    graph[vertex].update(neighbors)\n",
    "\n",
    "print(\"\\nConstructed Graph:\")\n",
    "for vertex, neighbors in graph.items():\n",
    "    print(f\"{vertex}: {', '.join(neighbors)}\")\n",
    "\n",
    "start_vertex = input(\"\\nEnter the starting vertex: \")\n",
    "target_vertex = input(\"Enter the target vertex: \")\n",
    "\n",
    "if start_vertex not in graph or target_vertex not in graph:\n",
    "    print(\"Start or target vertex not found in the graph!\")\n",
    "else:\n",
    "    visited = set()\n",
    "    queue = deque([(start_vertex, [start_vertex])])\n",
    "    found = [False]\n",
    "    bfs_recursive(graph, queue, visited, target_vertex, found)\n",
    "    if not found[0]:\n",
    "        print(f\"Target node '{target_vertex}' not found.\")\n"
   ]
  },
  {
   "cell_type": "code",
   "execution_count": null,
   "id": "15076cf8-8fae-4cd6-af35-b8a6182ece26",
   "metadata": {},
   "outputs": [],
   "source": []
  }
 ],
 "metadata": {
  "kernelspec": {
   "display_name": "Python 3 (ipykernel)",
   "language": "python",
   "name": "python3"
  },
  "language_info": {
   "codemirror_mode": {
    "name": "ipython",
    "version": 3
   },
   "file_extension": ".py",
   "mimetype": "text/x-python",
   "name": "python",
   "nbconvert_exporter": "python",
   "pygments_lexer": "ipython3",
   "version": "3.12.3"
  }
 },
 "nbformat": 4,
 "nbformat_minor": 5
}
