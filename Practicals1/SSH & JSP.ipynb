{
 "cells": [
  {
   "cell_type": "code",
   "execution_count": 2,
   "id": "35d93a20-bb1a-4527-8e51-8cf688b0c47c",
   "metadata": {},
   "outputs": [
    {
     "name": "stdout",
     "output_type": "stream",
     "text": [
      "Lokesh Dhoble 22131\n",
      "Estimated cost from current node to goal \n"
     ]
    },
    {
     "name": "stdin",
     "output_type": "stream",
     "text": [
      "Enter the number of edges:  6\n",
      "Enter the edge (source destination weight):  A B 40\n",
      "Enter the edge (source destination weight):  B C 30\n",
      "Enter the edge (source destination weight):  C D 20\n",
      "Enter the edge (source destination weight):  A C 20\n",
      "Enter the edge (source destination weight):  A D 50\n",
      "Enter the edge (source destination weight):  D E 60\n",
      "Enter the heuristic value for node A:  6\n",
      "Enter the heuristic value for node B:  5\n",
      "Enter the heuristic value for node C:  5\n",
      "Enter the heuristic value for node D:  4\n",
      "Enter the heuristic value for node E:  3\n",
      "Enter the source node:  A\n",
      "Enter the goal node:  E\n"
     ]
    },
    {
     "name": "stdout",
     "output_type": "stream",
     "text": [
      "Visiting node A, heuristic value: 6\n",
      "Visiting node D, heuristic value: 4\n",
      "Visiting node E, heuristic value: 3\n",
      "Goal reached!\n",
      "Path: ['A', 'D', 'E']\n",
      "Total heuristic value of the path: 13\n"
     ]
    },
    {
     "data": {
      "text/plain": [
       "['A', 'D', 'E']"
      ]
     },
     "execution_count": 2,
     "metadata": {},
     "output_type": "execute_result"
    }
   ],
   "source": [
    "#Single search shortest\n",
    "import sys\n",
    "import heapq\n",
    "\n",
    "class Graph:\n",
    "    def __init__(self, vertices, heuristics):\n",
    "        self.V = vertices\n",
    "        self.graph = {}\n",
    "        self.heuristics = heuristics  # Heuristic values for each node\n",
    "\n",
    "    def add_edge(self, u, v, weight):\n",
    "        if u not in self.graph:\n",
    "            self.graph[u] = []\n",
    "        if v not in self.graph:\n",
    "            self.graph[v] = []\n",
    "        self.graph[u].append((v, weight))\n",
    "        self.graph[v].append((u, weight))\n",
    "\n",
    "    def greedy_best_first_search(self, start, goal):\n",
    "        # Priority queue to select the node with the smallest heuristic value\n",
    "        open_list = []\n",
    "        heapq.heappush(open_list, (self.heuristics[start], start))\n",
    "        \n",
    "        # Set to track visited nodes\n",
    "        visited = set()\n",
    "        \n",
    "        # Parent dictionary to reconstruct the path\n",
    "        parent = {start: None}\n",
    "        \n",
    "        while open_list:\n",
    "            current_h, current_node = heapq.heappop(open_list)\n",
    "            print(f\"Visiting node {current_node}, heuristic value: {self.heuristics[current_node]}\")\n",
    "            \n",
    "            if current_node == goal:\n",
    "                print(\"Goal reached!\")\n",
    "                # Reconstruct the path\n",
    "                path = []\n",
    "                total_heuristic_value = 0  # Initialize total heuristic value\n",
    "                while current_node is not None:\n",
    "                    path.append(current_node)\n",
    "                    total_heuristic_value += self.heuristics[current_node]  # Add the heuristic value of each node\n",
    "                    current_node = parent[current_node]\n",
    "                path.reverse()\n",
    "                print(\"Path:\", path)\n",
    "                print(\"Total heuristic value of the path:\", total_heuristic_value)\n",
    "                return path\n",
    "            \n",
    "            visited.add(current_node)\n",
    "            \n",
    "            for neighbor, _ in self.graph.get(current_node, []):\n",
    "                if neighbor not in visited:\n",
    "                    parent[neighbor] = current_node\n",
    "                    heapq.heappush(open_list, (self.heuristics[neighbor], neighbor))\n",
    "        \n",
    "        print(\"Goal not reachable.\")\n",
    "        return None\n",
    "\n",
    "# Create the graph\n",
    "print(\"Lokesh Dhoble 22131\")\n",
    "print(\"Estimated cost from current node to goal \")\n",
    "graph = {}\n",
    "n = int(input(\"Enter the number of edges: \"))\n",
    "for i in range(n):\n",
    "    edge = input(\"Enter the edge (source destination weight): \").split()\n",
    "    source, destination, weight = edge[0], edge[1], int(edge[2])\n",
    "\n",
    "    # Add the edge to the graph (undirected graph)\n",
    "    if source not in graph:\n",
    "        graph[source] = {}\n",
    "    if destination not in graph:\n",
    "        graph[destination] = {}\n",
    "    \n",
    "    graph[source][destination] = weight\n",
    "    graph[destination][source] = weight\n",
    "\n",
    "# Get the heuristic values from the user\n",
    "heuristics = {}\n",
    "for node in graph.keys():\n",
    "    heuristics[node] = int(input(f\"Enter the heuristic value for node {node}: \"))\n",
    "\n",
    "# Get the source and goal nodes\n",
    "source = input(\"Enter the source node: \")\n",
    "goal = input(\"Enter the goal node: \")\n",
    "\n",
    "# Create the Graph object\n",
    "g = Graph(len(graph), heuristics)\n",
    "\n",
    "# Add edges to the graph\n",
    "for node in graph:\n",
    "    for neighbor in graph[node]:\n",
    "        g.add_edge(node, neighbor, graph[node][neighbor])\n",
    "\n",
    "# Perform Greedy Best-First Search\n",
    "g.greedy_best_first_search(source, goal)\n"
   ]
  },
  {
   "cell_type": "code",
   "execution_count": 5,
   "id": "fae3bdea-714a-4d5b-8bc2-d6bf855acaac",
   "metadata": {},
   "outputs": [
    {
     "name": "stdout",
     "output_type": "stream",
     "text": [
      "Lokesh Dhoble 22131\n"
     ]
    },
    {
     "name": "stdin",
     "output_type": "stream",
     "text": [
      "Enter the number of jobs:  5\n",
      "Enter the profit of job 1:  50\n",
      "Enter the name of job 1:  J1\n",
      "Enter the deadline of job 1:  2\n",
      "Enter the heuristic value for job 1:  5\n",
      "Enter the profit of job 2:  20\n",
      "Enter the name of job 2:  J2\n",
      "Enter the deadline of job 2:  1\n",
      "Enter the heuristic value for job 2:  2\n",
      "Enter the profit of job 3:  30\n",
      "Enter the name of job 3:  J3\n",
      "Enter the deadline of job 3:  2\n",
      "Enter the heuristic value for job 3:  4\n",
      "Enter the profit of job 4:  30\n",
      "Enter the name of job 4:  J4\n",
      "Enter the deadline of job 4:  1\n",
      "Enter the heuristic value for job 4:  2\n",
      "Enter the profit of job 5:  20\n",
      "Enter the name of job 5:  J5\n",
      "Enter the deadline of job 5:  3\n",
      "Enter the heuristic value for job 5:  2\n"
     ]
    },
    {
     "name": "stdout",
     "output_type": "stream",
     "text": [
      "Jobs scheduled with Heuristic Values:\n",
      "Job: J3 | Profit: 30 | Heuristic: 4\n",
      "Job: J1 | Profit: 50 | Heuristic: 5\n",
      "Job: J5 | Profit: 20 | Heuristic: 2\n",
      "Total profit: 100\n"
     ]
    }
   ],
   "source": [
    "#job Sheduling\n",
    "\n",
    "profit = []\n",
    "jobs = []\n",
    "deadline = []\n",
    "heuristics = []  \n",
    "\n",
    "print(\"Lokesh Dhoble 22131\")\n",
    "n = int(input(\"Enter the number of jobs: \"))\n",
    "\n",
    "for i in range(n):\n",
    "    p = int(input(\"Enter the profit of job {}: \".format(i + 1)))\n",
    "    profit.append(p)\n",
    "    j = input(\"Enter the name of job {}: \".format(i + 1))\n",
    "    jobs.append(j)\n",
    "    d = int(input(\"Enter the deadline of job {}: \".format(i + 1)))\n",
    "    deadline.append(d)\n",
    "    h = int(input(\"Enter the heuristic value for job {}: \".format(i + 1)))  \n",
    "    heuristics.append(h)\n",
    "\n",
    "profitNJobs = list(zip(profit, jobs, deadline, heuristics))\n",
    "\n",
    "profitNJobs = sorted(profitNJobs, key=lambda x: x[0], reverse=True)\n",
    "\n",
    "slot = [0] * (n + 1)\n",
    "total_profit = 0\n",
    "ans = ['null'] * (n + 1)\n",
    "\n",
    "for i in range(n):\n",
    "    job = profitNJobs[i]\n",
    "    for j in range(job[2], 0, -1):  \n",
    "        if slot[j] == 0:\n",
    "            ans[j] = job[1]\n",
    "            total_profit += job[0]\n",
    "            slot[j] = 1\n",
    "            break\n",
    "\n",
    "\n",
    "print(\"Jobs scheduled with Heuristic Values:\")\n",
    "for i in range(1, n + 1):\n",
    "    if ans[i] != 'null':\n",
    "        job_index = jobs.index(ans[i])\n",
    "        print(f\"Job: {ans[i]} | Profit: {profit[job_index]} | Heuristic: {heuristics[job_index]}\")\n",
    "\n",
    "# Output the total profit\n",
    "print(\"Total profit:\", total_profit)\n"
   ]
  },
  {
   "cell_type": "code",
   "execution_count": null,
   "id": "8d48a081-1f50-4bef-94c0-7ede357b5a2e",
   "metadata": {},
   "outputs": [],
   "source": []
  }
 ],
 "metadata": {
  "kernelspec": {
   "display_name": "Python 3 (ipykernel)",
   "language": "python",
   "name": "python3"
  },
  "language_info": {
   "codemirror_mode": {
    "name": "ipython",
    "version": 3
   },
   "file_extension": ".py",
   "mimetype": "text/x-python",
   "name": "python",
   "nbconvert_exporter": "python",
   "pygments_lexer": "ipython3",
   "version": "3.12.3"
  }
 },
 "nbformat": 4,
 "nbformat_minor": 5
}
