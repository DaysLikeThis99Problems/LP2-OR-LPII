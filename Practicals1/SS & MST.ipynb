{
 "cells": [
  {
   "cell_type": "code",
   "execution_count": 2,
   "id": "11618ade-b6cc-437b-8a81-d808bc5aede1",
   "metadata": {},
   "outputs": [
    {
     "name": "stdin",
     "output_type": "stream",
     "text": [
      "Enter the array elements separated by space:  5 6 4 1 3 7 9 5\n"
     ]
    },
    {
     "name": "stdout",
     "output_type": "stream",
     "text": [
      "Heuristic is used to calculate the distance of each element from its target sorted position.\n",
      "Step 1: Array: [1, 6, 4, 5, 3, 7, 9, 5] | Heuristic: [0, 4, 0, 0, 3, 1, 1, 0]\n",
      "Step 2: Array: [1, 3, 4, 5, 6, 7, 9, 5] | Heuristic: [0, 0, 0, 0, 1, 1, 1, 0]\n",
      "Step 3: Array: [1, 3, 4, 5, 6, 7, 9, 5] | Heuristic: [0, 0, 0, 0, 1, 1, 1, 0]\n",
      "Step 4: Array: [1, 3, 4, 5, 6, 7, 9, 5] | Heuristic: [0, 0, 0, 0, 1, 1, 1, 0]\n",
      "Step 5: Array: [1, 3, 4, 5, 5, 7, 9, 6] | Heuristic: [0, 0, 0, 0, 0, 1, 1, 2]\n",
      "Step 6: Array: [1, 3, 4, 5, 5, 6, 9, 7] | Heuristic: [0, 0, 0, 0, 0, 0, 1, 1]\n",
      "Step 7: Array: [1, 3, 4, 5, 5, 6, 7, 9] | Heuristic: [0, 0, 0, 0, 0, 0, 0, 0]\n",
      "Step 8: Array: [1, 3, 4, 5, 5, 6, 7, 9] | Heuristic: [0, 0, 0, 0, 0, 0, 0, 0]\n",
      "Sorted Array: [1, 3, 4, 5, 5, 6, 7, 9]\n"
     ]
    }
   ],
   "source": [
    "def selectionSort(arr):\n",
    "    def heuristic(arr):\n",
    "        sorted_arr = sorted(arr)\n",
    "        heuristic_values = [abs(arr.index(x) - sorted_arr.index(x)) for x in arr]\n",
    "        return heuristic_values\n",
    "    \n",
    "    print(\"Heuristic is used to calculate the distance of each element from its target sorted position.\")\n",
    "    \n",
    "    for i in range(len(arr)):\n",
    "        min_index = i\n",
    "        for j in range(i + 1, len(arr)):\n",
    "            if arr[j] < arr[min_index]:\n",
    "                min_index = j\n",
    "        arr[i], arr[min_index] = arr[min_index], arr[i]\n",
    "        print(f\"Step {i + 1}: Array: {arr} | Heuristic: {heuristic(arr)}\")\n",
    "    \n",
    "    return arr\n",
    "\n",
    "arr = list(map(int, input(\"Enter the array elements separated by space: \").split()))\n",
    "sorted_array = selectionSort(arr)\n",
    "print(\"Sorted Array:\", sorted_array)"
   ]
  },
  {
   "cell_type": "code",
   "execution_count": 3,
   "id": "3af3652b-1b41-49d6-9c44-8b68099769be",
   "metadata": {},
   "outputs": [
    {
     "name": "stdout",
     "output_type": "stream",
     "text": [
      "Lokesh Dhoble 22131\n",
      "Estimated cost to reach the goal from the current node\n"
     ]
    },
    {
     "name": "stdin",
     "output_type": "stream",
     "text": [
      "Enter the number of vertices:  4\n"
     ]
    },
    {
     "name": "stdout",
     "output_type": "stream",
     "text": [
      "Enter the graph matrix:\n"
     ]
    },
    {
     "name": "stdin",
     "output_type": "stream",
     "text": [
      " 0 2 4 1\n",
      " 0 4 2 0\n",
      " 0 9 8 0\n",
      " 5 4 1 9\n"
     ]
    },
    {
     "name": "stdout",
     "output_type": "stream",
     "text": [
      "Enter the heuristic values for each vertex:\n"
     ]
    },
    {
     "name": "stdin",
     "output_type": "stream",
     "text": [
      "Heuristic value for vertex 0:  4\n",
      "Heuristic value for vertex 1:  3\n",
      "Heuristic value for vertex 2:  9\n",
      "Heuristic value for vertex 3:  3\n",
      "Enter the source vertex:  2\n"
     ]
    },
    {
     "name": "stdout",
     "output_type": "stream",
     "text": [
      "Edge \tWeight \tHeuristic Value\n",
      "0 - 1 \t 0 \t 3\n",
      "3 - 2 \t 0 \t 9\n",
      "0 - 3 \t 5 \t 3\n",
      "\n",
      "Total MST Cost: 5\n"
     ]
    }
   ],
   "source": [
    "# prims minimum spanning tree\n",
    "import sys\n",
    "\n",
    "class Graph():\n",
    "    def __init__(self, vertices):\n",
    "        self.V = vertices\n",
    "        self.graph = [[0 for column in range(vertices)] for row in range(vertices)]\n",
    "    \n",
    "    def printMST(self, parent, heuristics, total_cost):\n",
    "        print(\"Edge \\tWeight \\tHeuristic Value\")\n",
    "        for i in range(1, self.V):\n",
    "            print(f\"{parent[i]} - {i} \\t {self.graph[i][parent[i]]} \\t {heuristics[i]}\")\n",
    "        print(f\"\\nTotal MST Cost: {total_cost}\")\n",
    "    \n",
    "    def minKey(self, key, mstSet):\n",
    "        min_val = sys.maxsize\n",
    "        min_index = -1\n",
    "        for v in range(self.V):\n",
    "            if key[v] < min_val and not mstSet[v]:\n",
    "                min_val = key[v]\n",
    "                min_index = v\n",
    "        return min_index\n",
    "    \n",
    "    def primMST(self, heuristics):\n",
    "        key = [sys.maxsize] * self.V\n",
    "        parent = [None] * self.V\n",
    "        key[0] = 0\n",
    "        mstSet = [False] * self.V\n",
    "        parent[0] = -1\n",
    "        total_cost = 0  # Variable to store total cost of the MST\n",
    "        \n",
    "        for cout in range(self.V):\n",
    "            u = self.minKey(key, mstSet)\n",
    "            mstSet[u] = True\n",
    "\n",
    "            for v in range(self.V):\n",
    "                if self.graph[u][v] > 0 and not mstSet[v] and self.graph[u][v] < key[v]:\n",
    "                    key[v] = self.graph[u][v]\n",
    "                    parent[v] = u\n",
    "\n",
    "        # Now calculate the total cost of the MST by summing the edge weights\n",
    "        total_cost = sum(self.graph[i][parent[i]] for i in range(1, self.V))\n",
    "        \n",
    "        # Print MST and total cost\n",
    "        self.printMST(parent, heuristics, total_cost)\n",
    "\n",
    "if __name__ == '__main__':\n",
    "    print(\"Lokesh Dhoble 22131\")\n",
    "    print(\"Estimated cost to reach the goal from the current node\")\n",
    "    vertices = int(input(\"Enter the number of vertices: \"))\n",
    "    g = Graph(vertices)\n",
    "    print(\"Enter the graph matrix:\")\n",
    "    for i in range(vertices):\n",
    "        row = list(map(int, input().split()))\n",
    "        for j in range(vertices):\n",
    "            g.graph[i][j] = row[j]\n",
    "    \n",
    "    # Get heuristic values from the user\n",
    "    heuristics = []\n",
    "    print(\"Enter the heuristic values for each vertex:\")\n",
    "    for i in range(vertices):\n",
    "        h_value = int(input(f\"Heuristic value for vertex {i}: \"))\n",
    "        heuristics.append(h_value)\n",
    "    \n",
    "    source_vertex = int(input(\"Enter the source vertex: \"))\n",
    "    g.primMST(heuristics)\n"
   ]
  },
  {
   "cell_type": "code",
   "execution_count": null,
   "id": "b9e96a6b-b6a7-4373-be74-73401a958355",
   "metadata": {},
   "outputs": [],
   "source": []
  }
 ],
 "metadata": {
  "kernelspec": {
   "display_name": "Python 3 (ipykernel)",
   "language": "python",
   "name": "python3"
  },
  "language_info": {
   "codemirror_mode": {
    "name": "ipython",
    "version": 3
   },
   "file_extension": ".py",
   "mimetype": "text/x-python",
   "name": "python",
   "nbconvert_exporter": "python",
   "pygments_lexer": "ipython3",
   "version": "3.12.3"
  }
 },
 "nbformat": 4,
 "nbformat_minor": 5
}
