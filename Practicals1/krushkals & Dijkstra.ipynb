{
 "cells": [
  {
   "cell_type": "code",
   "execution_count": 3,
   "id": "7f509adc-3834-4694-93d7-4b09d50b6291",
   "metadata": {},
   "outputs": [
    {
     "name": "stdout",
     "output_type": "stream",
     "text": [
      "Lokesh Dhoble 22131\n",
      "heuristic here is the edge weight itself choose least cost edge next.\n"
     ]
    },
    {
     "name": "stdin",
     "output_type": "stream",
     "text": [
      "Enter the number of vertices:  5 \n",
      "Enter the number of edges:  7\n"
     ]
    },
    {
     "name": "stdout",
     "output_type": "stream",
     "text": [
      "Enter the edges and their weights:\n"
     ]
    },
    {
     "name": "stdin",
     "output_type": "stream",
     "text": [
      " 0 1 4\n",
      " 0 2 1\n",
      " 1 2 2\n",
      " 1 3 5\n",
      " 2 3 7\n",
      " 2 4 6\n",
      " 3 4 8\n"
     ]
    },
    {
     "name": "stdout",
     "output_type": "stream",
     "text": [
      "(Heuristic Function: Current Edge Weight)\n",
      "Current MST state:\n",
      "0 -- 2 == 1\n",
      "--------\n",
      "(Heuristic Function: Current Edge Weight)\n",
      "Current MST state:\n",
      "0 -- 2 == 1\n",
      "1 -- 2 == 2\n",
      "--------\n",
      "(Heuristic Function: Current Edge Weight)\n",
      "(Heuristic Function: Current Edge Weight)\n",
      "Current MST state:\n",
      "0 -- 2 == 1\n",
      "1 -- 2 == 2\n",
      "1 -- 3 == 5\n",
      "--------\n",
      "(Heuristic Function: Current Edge Weight)\n",
      "Current MST state:\n",
      "0 -- 2 == 1\n",
      "1 -- 2 == 2\n",
      "1 -- 3 == 5\n",
      "2 -- 4 == 6\n",
      "--------\n",
      "\n",
      "Edges in the constructed MST:\n",
      "0 -- 2 == 1\n",
      "1 -- 2 == 2\n",
      "1 -- 3 == 5\n",
      "2 -- 4 == 6\n",
      "Minimum Spanning Tree 14\n"
     ]
    }
   ],
   "source": [
    "#krushkal minimum spanning tree\n",
    "\n",
    "class Graph:\n",
    "    def __init__(self, vertices):\n",
    "        self.V = vertices\n",
    "        self.graph = []\n",
    "\n",
    "    def addEdge(self, u, v, w):\n",
    "        self.graph.append([u, v, w])\n",
    "\n",
    "    def find(self, parent, i):\n",
    "        if parent[i] != i:\n",
    "            parent[i] = self.find(parent, parent[i])  # Path compression\n",
    "        return parent[i]\n",
    "\n",
    "    def union(self, parent, rank, x, y):\n",
    "        if rank[x] < rank[y]:\n",
    "            parent[x] = y\n",
    "        elif rank[x] > rank[y]:\n",
    "            parent[y] = x\n",
    "        else:\n",
    "            parent[y] = x\n",
    "            rank[x] += 1\n",
    "\n",
    "    def KruskalMST(self):\n",
    "        result = []  \n",
    "        i = 0  \n",
    "        e = 0  \n",
    "\n",
    "        # Step 1: Sort all the edges in non-decreasing order of their weight\n",
    "        self.graph = sorted(self.graph, key=lambda item: item[2])\n",
    "\n",
    "        parent = list(range(self.V))  \n",
    "        rank = [0] * self.V  \n",
    "\n",
    "        # Step 2: Process edges in sorted order\n",
    "        while e < self.V - 1:\n",
    "            u, v, w = self.graph[i] \n",
    "            i = i + 1\n",
    "            x = self.find(parent, u)\n",
    "            y = self.find(parent, v)\n",
    "                # Heuristic Function: Track and print the current edge being processed\n",
    "            print(f\"(Heuristic Function: Current Edge Weight)\")\n",
    "\n",
    "          \n",
    "            if x != y:\n",
    "                e = e + 1\n",
    "                result.append([u, v, w])  \n",
    "                self.union(parent, rank, x, y)  \n",
    "\n",
    "                # Print current MST state after adding an edge\n",
    "                print(\"Current MST state:\")\n",
    "                for u, v, weight in result:\n",
    "                    print(f\"{u} -- {v} == {weight}\")\n",
    "                print(\"--------\")\n",
    "\n",
    "        # Step 3: Print the MST and its cost\n",
    "        minimumCost = 0\n",
    "        print(\"\\nEdges in the constructed MST:\")\n",
    "        for u, v, weight in result:\n",
    "            minimumCost += weight\n",
    "            print(f\"{u} -- {v} == {weight}\")\n",
    "        \n",
    "        print(\"Minimum Spanning Tree\", minimumCost)\n",
    "\n",
    "\n",
    "if __name__ == '__main__':\n",
    "    print(\"Lokesh Dhoble 22131\")\n",
    "    print(\"heuristic here is the edge weight itself choose least cost edge next.\")\n",
    "    vertices = int(input(\"Enter the number of vertices: \"))\n",
    "    g = Graph(vertices)\n",
    "\n",
    "    edges = int(input(\"Enter the number of edges: \"))\n",
    "    print(\"Enter the edges and their weights:\")\n",
    "\n",
    "    for i in range(edges):\n",
    "        u, v, w = map(int, input().split())\n",
    "        g.addEdge(u, v, w)\n",
    "\n",
    "    # Perform Kruskal's MST\n",
    "    g.KruskalMST()\n"
   ]
  },
  {
   "cell_type": "code",
   "execution_count": 5,
   "id": "ae10625e-7813-4773-b1f0-f777fa3d8771",
   "metadata": {},
   "outputs": [
    {
     "name": "stdout",
     "output_type": "stream",
     "text": [
      "Name:Lokesh Dhoble\n",
      "Roll No:22131\n"
     ]
    },
    {
     "name": "stdin",
     "output_type": "stream",
     "text": [
      "Enter the number of vertices:  5\n"
     ]
    },
    {
     "name": "stdout",
     "output_type": "stream",
     "text": [
      "Enter the graph matrix:\n"
     ]
    },
    {
     "name": "stdin",
     "output_type": "stream",
     "text": [
      " 0 10 0 30 100\n",
      " 10 0 50 0 0\n",
      " 0 50 0 20 10\n",
      " 30 0 20 0 60\n",
      " 100 0 10 60 0\n"
     ]
    },
    {
     "name": "stdout",
     "output_type": "stream",
     "text": [
      "Enter the heuristic values for each vertex:\n"
     ]
    },
    {
     "name": "stdin",
     "output_type": "stream",
     "text": [
      "Heuristic value for vertex 0:  50\n",
      "Heuristic value for vertex 1:  40\n",
      "Heuristic value for vertex 2:  30\n",
      "Heuristic value for vertex 3:  20\n",
      "Heuristic value for vertex 4:  10\n",
      "Enter the source vertex:  0\n"
     ]
    },
    {
     "name": "stdout",
     "output_type": "stream",
     "text": [
      "Vertex \tDistance from Source \tHeuristic Value\n",
      "0 \t\t 0 \t\t 50\n",
      "1 \t\t 10 \t\t 40\n",
      "2 \t\t 50 \t\t 30\n",
      "3 \t\t 30 \t\t 20\n",
      "4 \t\t 60 \t\t 10\n",
      "Heuristic function is the estimated cost from the current node\n"
     ]
    }
   ],
   "source": [
    "# dijkstra minimun spanning tree\n",
    "\n",
    "import sys\n",
    "\n",
    "class Graph():\n",
    "\n",
    "    def __init__(self, vertices):\n",
    "        self.V = vertices\n",
    "        self.graph = [[0 for column in range(vertices)]\n",
    "                      for row in range(vertices)]\n",
    "\n",
    "    def printSolution(self, dist, heuristics):\n",
    "        print(\"Vertex \\tDistance from Source \\tHeuristic Value\")\n",
    "        for node in range(self.V):\n",
    "            print(f\"{node} \\t\\t {dist[node]} \\t\\t {heuristics[node]}\")\n",
    "        print(\"Heuristic function is the estimated cost from the current node\")  \n",
    "\n",
    "    def minDistance(self, dist, sptSet):\n",
    "        min_val = sys.maxsize\n",
    "        min_index = -1\n",
    "        for u in range(self.V):\n",
    "            if dist[u] < min_val and not sptSet[u]:\n",
    "                min_val = dist[u]\n",
    "                min_index = u\n",
    "        return min_index\n",
    "\n",
    "    def dijkstra(self, src, heuristics):\n",
    "        dist = [sys.maxsize] * self.V\n",
    "        dist[src] = 0\n",
    "        sptSet = [False] * self.V\n",
    "\n",
    "        for cout in range(self.V):\n",
    "            x = self.minDistance(dist, sptSet)\n",
    "\n",
    "            sptSet[x] = True\n",
    "\n",
    "            for y in range(self.V):\n",
    "                if self.graph[x][y] > 0 and not sptSet[y] and dist[y] > dist[x] + self.graph[x][y]:\n",
    "                    dist[y] = dist[x] + self.graph[x][y]\n",
    "\n",
    "        self.printSolution(dist, heuristics)\n",
    "\n",
    "if __name__ == \"__main__\":\n",
    "    print(\"Name:Lokesh Dhoble\"+\"\\n\"+\"Roll No:22131\")\n",
    "    vertices = int(input(\"Enter the number of vertices: \"))\n",
    "    graph = []\n",
    "    print(\"Enter the graph matrix:\")\n",
    "    for i in range(vertices):\n",
    "        row = list(map(int, input().split()))\n",
    "        graph.append(row)\n",
    "\n",
    "    g = Graph(vertices)\n",
    "    g.graph = graph\n",
    "\n",
    "    # Get heuristic values from the user\n",
    "    heuristics = []\n",
    "    print(\"Enter the heuristic values for each vertex:\")\n",
    "    for i in range(vertices):\n",
    "        h_value = int(input(f\"Heuristic value for vertex {i}: \"))\n",
    "        heuristics.append(h_value)\n",
    "\n",
    "    src = int(input(\"Enter the source vertex: \"))\n",
    "    g.dijkstra(src, heuristics)\n"
   ]
  },
  {
   "cell_type": "code",
   "execution_count": null,
   "id": "d6ffa197-091e-470d-a03d-960b34792d30",
   "metadata": {},
   "outputs": [],
   "source": []
  }
 ],
 "metadata": {
  "kernelspec": {
   "display_name": "Python 3 (ipykernel)",
   "language": "python",
   "name": "python3"
  },
  "language_info": {
   "codemirror_mode": {
    "name": "ipython",
    "version": 3
   },
   "file_extension": ".py",
   "mimetype": "text/x-python",
   "name": "python",
   "nbconvert_exporter": "python",
   "pygments_lexer": "ipython3",
   "version": "3.12.3"
  }
 },
 "nbformat": 4,
 "nbformat_minor": 5
}
