{
 "cells": [
  {
   "cell_type": "code",
   "execution_count": 1,
   "id": "6963c0ef-3360-4e75-995d-bb952c1fcdea",
   "metadata": {},
   "outputs": [
    {
     "name": "stdout",
     "output_type": "stream",
     "text": [
      "Lokesh Dhoble 22131\n",
      "Estimated cost to reach the goal from the current node\n"
     ]
    },
    {
     "name": "stdin",
     "output_type": "stream",
     "text": [
      "Enter the number of vertices:  4\n"
     ]
    },
    {
     "name": "stdout",
     "output_type": "stream",
     "text": [
      "Enter the graph matrix:\n"
     ]
    },
    {
     "name": "stdin",
     "output_type": "stream",
     "text": [
      " 0 2 4 1\n",
      " 0 4 2 0\n",
      " 0 9 8 0\n",
      " 5 4 1 9\n"
     ]
    },
    {
     "name": "stdout",
     "output_type": "stream",
     "text": [
      "Enter the heuristic values for each vertex:\n"
     ]
    },
    {
     "name": "stdin",
     "output_type": "stream",
     "text": [
      "Heuristic value for vertex 0:  4\n",
      "Heuristic value for vertex 1:  3\n",
      "Heuristic value for vertex 2:  9\n",
      "Heuristic value for vertex 3:  3\n",
      "Enter the source vertex:  2\n"
     ]
    },
    {
     "name": "stdout",
     "output_type": "stream",
     "text": [
      "Edge \tWeight \tHeuristic Value\n",
      "0 - 1 \t 0 \t 3\n",
      "3 - 2 \t 0 \t 9\n",
      "0 - 3 \t 5 \t 3\n",
      "\n",
      "Total MST Cost: 5\n"
     ]
    }
   ],
   "source": [
    "# prims minimum spanning tree\n",
    "import sys\n",
    "\n",
    "class Graph():\n",
    "    def __init__(self, vertices):\n",
    "        self.V = vertices\n",
    "        self.graph = [[0 for column in range(vertices)] for row in range(vertices)]\n",
    "    \n",
    "    def printMST(self, parent, heuristics, total_cost):\n",
    "        print(\"Edge \\tWeight \\tHeuristic Value\")\n",
    "        for i in range(1, self.V):\n",
    "            print(f\"{parent[i]} - {i} \\t {self.graph[i][parent[i]]} \\t {heuristics[i]}\")\n",
    "        print(f\"\\nTotal MST Cost: {total_cost}\")\n",
    "    \n",
    "    def minKey(self, key, mstSet):\n",
    "        min_val = sys.maxsize\n",
    "        min_index = -1\n",
    "        for v in range(self.V):\n",
    "            if key[v] < min_val and not mstSet[v]:\n",
    "                min_val = key[v]\n",
    "                min_index = v\n",
    "        return min_index\n",
    "    \n",
    "    def primMST(self, heuristics):\n",
    "        key = [sys.maxsize] * self.V\n",
    "        parent = [None] * self.V\n",
    "        key[0] = 0\n",
    "        mstSet = [False] * self.V\n",
    "        parent[0] = -1\n",
    "        total_cost = 0  # Variable to store total cost of the MST\n",
    "        \n",
    "        for cout in range(self.V):\n",
    "            u = self.minKey(key, mstSet)\n",
    "            mstSet[u] = True\n",
    "\n",
    "            for v in range(self.V):\n",
    "                if self.graph[u][v] > 0 and not mstSet[v] and self.graph[u][v] < key[v]:\n",
    "                    key[v] = self.graph[u][v]\n",
    "                    parent[v] = u\n",
    "\n",
    "        # Now calculate the total cost of the MST by summing the edge weights\n",
    "        total_cost = sum(self.graph[i][parent[i]] for i in range(1, self.V))\n",
    "        \n",
    "        # Print MST and total cost\n",
    "        self.printMST(parent, heuristics, total_cost)\n",
    "\n",
    "if __name__ == '__main__':\n",
    "    print(\"Lokesh Dhoble 22131\")\n",
    "    print(\"Estimated cost to reach the goal from the current node\")\n",
    "    vertices = int(input(\"Enter the number of vertices: \"))\n",
    "    g = Graph(vertices)\n",
    "    print(\"Enter the graph matrix:\")\n",
    "    for i in range(vertices):\n",
    "        row = list(map(int, input().split()))\n",
    "        for j in range(vertices):\n",
    "            g.graph[i][j] = row[j]\n",
    "    \n",
    "    # Get heuristic values from the user\n",
    "    heuristics = []\n",
    "    print(\"Enter the heuristic values for each vertex:\")\n",
    "    for i in range(vertices):\n",
    "        h_value = int(input(f\"Heuristic value for vertex {i}: \"))\n",
    "        heuristics.append(h_value)\n",
    "    \n",
    "    source_vertex = int(input(\"Enter the source vertex: \"))\n",
    "    g.primMST(heuristics)\n"
   ]
  },
  {
   "cell_type": "code",
   "execution_count": 3,
   "id": "95a36670-7a5e-490a-9ff9-348e9c69e646",
   "metadata": {},
   "outputs": [
    {
     "name": "stdout",
     "output_type": "stream",
     "text": [
      "Lokesh Dhoble 22131\n",
      "heuristic here is the edge weight itself choose least cost edge next.\n"
     ]
    },
    {
     "name": "stdin",
     "output_type": "stream",
     "text": [
      "Enter the number of vertices:  5\n",
      "Enter the number of edges:  7\n"
     ]
    },
    {
     "name": "stdout",
     "output_type": "stream",
     "text": [
      "Enter the edges and their weights:\n"
     ]
    },
    {
     "name": "stdin",
     "output_type": "stream",
     "text": [
      " 0 1 4\n",
      " 0 2 1\n",
      " 1 2 2\n",
      " 1 3 5\n",
      " 2 3 7\n",
      " 2 4 6\n",
      " 3 4 8\n"
     ]
    },
    {
     "name": "stdout",
     "output_type": "stream",
     "text": [
      "(Heuristic Function: Current Edge Weight)\n",
      "Current MST state:\n",
      "0 -- 2 == 1\n",
      "--------\n",
      "(Heuristic Function: Current Edge Weight)\n",
      "Current MST state:\n",
      "0 -- 2 == 1\n",
      "1 -- 2 == 2\n",
      "--------\n",
      "(Heuristic Function: Current Edge Weight)\n",
      "(Heuristic Function: Current Edge Weight)\n",
      "Current MST state:\n",
      "0 -- 2 == 1\n",
      "1 -- 2 == 2\n",
      "1 -- 3 == 5\n",
      "--------\n",
      "(Heuristic Function: Current Edge Weight)\n",
      "Current MST state:\n",
      "0 -- 2 == 1\n",
      "1 -- 2 == 2\n",
      "1 -- 3 == 5\n",
      "2 -- 4 == 6\n",
      "--------\n",
      "\n",
      "Edges in the constructed MST:\n",
      "0 -- 2 == 1\n",
      "1 -- 2 == 2\n",
      "1 -- 3 == 5\n",
      "2 -- 4 == 6\n",
      "Minimum Spanning Tree 14\n"
     ]
    }
   ],
   "source": [
    "#krushkal minimum spanning tree\n",
    "\n",
    "class Graph:\n",
    "    def __init__(self, vertices):\n",
    "        self.V = vertices\n",
    "        self.graph = []\n",
    "\n",
    "    def addEdge(self, u, v, w):\n",
    "        self.graph.append([u, v, w])\n",
    "\n",
    "    def find(self, parent, i):\n",
    "        if parent[i] != i:\n",
    "            parent[i] = self.find(parent, parent[i])  # Path compression\n",
    "        return parent[i]\n",
    "\n",
    "    def union(self, parent, rank, x, y):\n",
    "        if rank[x] < rank[y]:\n",
    "            parent[x] = y\n",
    "        elif rank[x] > rank[y]:\n",
    "            parent[y] = x\n",
    "        else:\n",
    "            parent[y] = x\n",
    "            rank[x] += 1\n",
    "\n",
    "    def KruskalMST(self):\n",
    "        result = []  \n",
    "        i = 0  \n",
    "        e = 0  \n",
    "\n",
    "        # Step 1: Sort all the edges in non-decreasing order of their weight\n",
    "        self.graph = sorted(self.graph, key=lambda item: item[2])\n",
    "\n",
    "        parent = list(range(self.V))  \n",
    "        rank = [0] * self.V  \n",
    "\n",
    "        # Step 2: Process edges in sorted order\n",
    "        while e < self.V - 1:\n",
    "            u, v, w = self.graph[i] \n",
    "            i = i + 1\n",
    "            x = self.find(parent, u)\n",
    "            y = self.find(parent, v)\n",
    "                # Heuristic Function: Track and print the current edge being processed\n",
    "            print(f\"(Heuristic Function: Current Edge Weight)\")\n",
    "\n",
    "          \n",
    "            if x != y:\n",
    "                e = e + 1\n",
    "                result.append([u, v, w])  \n",
    "                self.union(parent, rank, x, y)  \n",
    "\n",
    "                # Print current MST state after adding an edge\n",
    "                print(\"Current MST state:\")\n",
    "                for u, v, weight in result:\n",
    "                    print(f\"{u} -- {v} == {weight}\")\n",
    "                print(\"--------\")\n",
    "\n",
    "        # Step 3: Print the MST and its cost\n",
    "        minimumCost = 0\n",
    "        print(\"\\nEdges in the constructed MST:\")\n",
    "        for u, v, weight in result:\n",
    "            minimumCost += weight\n",
    "            print(f\"{u} -- {v} == {weight}\")\n",
    "        \n",
    "        print(\"Minimum Spanning Tree\", minimumCost)\n",
    "\n",
    "\n",
    "if __name__ == '__main__':\n",
    "    print(\"Lokesh Dhoble 22131\")\n",
    "    print(\"heuristic here is the edge weight itself choose least cost edge next.\")\n",
    "    vertices = int(input(\"Enter the number of vertices: \"))\n",
    "    g = Graph(vertices)\n",
    "\n",
    "    edges = int(input(\"Enter the number of edges: \"))\n",
    "    print(\"Enter the edges and their weights:\")\n",
    "\n",
    "    for i in range(edges):\n",
    "        u, v, w = map(int, input().split())\n",
    "        g.addEdge(u, v, w)\n",
    "\n",
    "    # Perform Kruskal's MST\n",
    "    g.KruskalMST()"
   ]
  },
  {
   "cell_type": "code",
   "execution_count": null,
   "id": "900e591b-5cac-4a24-964d-ca0492d18640",
   "metadata": {},
   "outputs": [],
   "source": []
  }
 ],
 "metadata": {
  "kernelspec": {
   "display_name": "Python 3 (ipykernel)",
   "language": "python",
   "name": "python3"
  },
  "language_info": {
   "codemirror_mode": {
    "name": "ipython",
    "version": 3
   },
   "file_extension": ".py",
   "mimetype": "text/x-python",
   "name": "python",
   "nbconvert_exporter": "python",
   "pygments_lexer": "ipython3",
   "version": "3.12.3"
  }
 },
 "nbformat": 4,
 "nbformat_minor": 5
}
